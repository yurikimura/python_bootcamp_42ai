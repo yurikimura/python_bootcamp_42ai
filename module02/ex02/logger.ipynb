{
 "cells": [
  {
   "cell_type": "markdown",
   "metadata": {},
   "source": [
    "https://qiita.com/_rdtr/items/d3bc1a8d4b7eb375c368\n",
    "\n",
    "### 関数のネスト\n",
    "まずinner_functionではローカルxを探すが見つからないので外側の名前空間を探し、outer内で定義されているxを参照します.また#2ではinner()を呼び出していますが, ここで大切なのは innerというのも変数名の1つにすぎず, 解決規則に基づきouter内の名前空間内の定義を探して呼び出されている ということです."
   ]
  },
  {
   "cell_type": "code",
   "execution_count": 2,
   "metadata": {},
   "outputs": [
    {
     "name": "stdout",
     "output_type": "stream",
     "text": [
      "ahoge\n",
      "a\n"
     ]
    }
   ],
   "source": [
    "def outer():\n",
    "    x = \"a\"\n",
    "    def inner_function():\n",
    "        print(x+\"hoge\") # 1\n",
    "    inner_function() # 2 \n",
    "    print(x)\n",
    "outer()"
   ]
  },
  {
   "cell_type": "code",
   "execution_count": 3,
   "metadata": {},
   "outputs": [
    {
     "name": "stdout",
     "output_type": "stream",
     "text": [
      "hogehoge\n",
      "a\n"
     ]
    }
   ],
   "source": [
    "def outer():\n",
    "    x = \"a\"\n",
    "    def inner_function():\n",
    "        x = \"hoge\"\n",
    "        print(x+\"hoge\") # 1\n",
    "    inner_function() # 2 \n",
    "    print(x)\n",
    "outer()"
   ]
  },
  {
   "cell_type": "code",
   "execution_count": 4,
   "metadata": {},
   "outputs": [
    {
     "name": "stdout",
     "output_type": "stream",
     "text": [
      "a\n"
     ]
    }
   ],
   "source": [
    "# returnにした時\n",
    "\n",
    "def outer():\n",
    "    x = \"a\"\n",
    "    def inner_function():\n",
    "        return x+\"hoge\" # 1\n",
    "    inner_function() # 2 \n",
    "    print(x)\n",
    "outer()"
   ]
  },
  {
   "cell_type": "code",
   "execution_count": 5,
   "metadata": {},
   "outputs": [
    {
     "name": "stdout",
     "output_type": "stream",
     "text": [
      "ahoge\n"
     ]
    }
   ],
   "source": [
    "def outer():\n",
    "    x = \"a\"\n",
    "    def inner_function():\n",
    "        return x+\"hoge\" # 1\n",
    "    var = inner_function() # 2 \n",
    "    print(var)\n",
    "outer()"
   ]
  },
  {
   "cell_type": "markdown",
   "metadata": {},
   "source": [
    "Pythonでは関数自身もまたオブジェクトにすぎません.  \n",
    "つまり関数を一般的な他の変数と変わりなく、他の関数の引数として与えたり, 関数の戻り値として使うことができます."
   ]
  },
  {
   "cell_type": "code",
   "execution_count": 6,
   "metadata": {},
   "outputs": [
    {
     "data": {
      "text/plain": [
       "function"
      ]
     },
     "execution_count": 6,
     "metadata": {},
     "output_type": "execute_result"
    }
   ],
   "source": [
    "issubclass(int, object) # Python内の全てのオブジェクトは同じ共通のクラスを継承して作られている\n",
    "def foo():\n",
    "    pass\n",
    "type(foo)"
   ]
  },
  {
   "cell_type": "code",
   "execution_count": 7,
   "metadata": {},
   "outputs": [
    {
     "data": {
      "text/plain": [
       "<function __main__.outer.<locals>.inner()>"
      ]
     },
     "execution_count": 7,
     "metadata": {},
     "output_type": "execute_result"
    }
   ],
   "source": [
    "def outer():\n",
    "    def inner():\n",
    "        print(\"Inside inner\")\n",
    "    return inner # 1\n",
    "\n",
    "foo = outer() #2\n",
    "foo"
   ]
  },
  {
   "cell_type": "code",
   "execution_count": 8,
   "metadata": {},
   "outputs": [
    {
     "name": "stdout",
     "output_type": "stream",
     "text": [
      "Inside inner\n"
     ]
    }
   ],
   "source": [
    "foo()"
   ]
  },
  {
   "cell_type": "code",
   "execution_count": 9,
   "metadata": {},
   "outputs": [
    {
     "ename": "AttributeError",
     "evalue": "'function' object has no attribute 'func_closure'",
     "output_type": "error",
     "traceback": [
      "\u001b[0;31m---------------------------------------------------------------------------\u001b[0m",
      "\u001b[0;31mAttributeError\u001b[0m                            Traceback (most recent call last)",
      "\u001b[0;32m<ipython-input-9-ee1b44b85ffe>\u001b[0m in \u001b[0;36m<module>\u001b[0;34m\u001b[0m\n\u001b[1;32m      6\u001b[0m \u001b[0;34m\u001b[0m\u001b[0m\n\u001b[1;32m      7\u001b[0m \u001b[0mfoo\u001b[0m \u001b[0;34m=\u001b[0m \u001b[0mouter\u001b[0m\u001b[0;34m(\u001b[0m\u001b[0;34m)\u001b[0m\u001b[0;34m\u001b[0m\u001b[0;34m\u001b[0m\u001b[0m\n\u001b[0;32m----> 8\u001b[0;31m \u001b[0mfoo\u001b[0m\u001b[0;34m.\u001b[0m\u001b[0mfunc_closure\u001b[0m\u001b[0;34m\u001b[0m\u001b[0;34m\u001b[0m\u001b[0m\n\u001b[0m",
      "\u001b[0;31mAttributeError\u001b[0m: 'function' object has no attribute 'func_closure'"
     ]
    }
   ],
   "source": [
    "def outer():\n",
    "    x = 1\n",
    "    def inner():\n",
    "        print(x)\n",
    "    return inner\n",
    "\n",
    "foo = outer()\n",
    "foo.func_closure"
   ]
  },
  {
   "cell_type": "code",
   "execution_count": 9,
   "metadata": {},
   "outputs": [],
   "source": [
    "def outer(some_func): # パラメータとして関数をとる関数outer()を定義する。\n",
    "    print(some_func())\n",
    "    def inner(): # innerは文字列をprintした後、返却する値を取得する。\n",
    "        print(\"I am inner function!\")\n",
    "        ret = some_func() #1\n",
    "        return ret + \"hoge\"\n",
    "    return inner\n",
    "\n",
    "def foo():\n",
    "    return \"a\""
   ]
  },
  {
   "cell_type": "code",
   "execution_count": 10,
   "metadata": {},
   "outputs": [
    {
     "name": "stdout",
     "output_type": "stream",
     "text": [
      "a\n",
      "I am inner function!\n"
     ]
    },
    {
     "data": {
      "text/plain": [
       "'ahoge'"
      ]
     },
     "execution_count": 10,
     "metadata": {},
     "output_type": "execute_result"
    }
   ],
   "source": [
    "decorated = outer(foo) #2\n",
    "decorated()"
   ]
  },
  {
   "cell_type": "markdown",
   "metadata": {},
   "source": [
    "デコレータとは「関数を引数に取り, 引き換えに新たな関数を返すcallable(*)」です.　　\n",
    "\n",
    "\n",
    "ここでパラメータとしてsome_funcを取るouterという関数を定義しています. そしてouterの中でさらにinnerという内部関数を定義しています.  \n",
    "innerは文字列をprintした後, #1で返却する値を取得しています. some_funcはouterが呼び出されるごとに異なる値を取りえますが, ここではそれが何であれとりあえず実行(call)し, その実行結果に1を加えた値を返却します.  \n",
    "最後にouter関数はinner関数そのものを返却します.  \n",
    "\n",
    "#2ではsome_funcとしてfooを引数にouterを実行した戻り値を変数decoratedに格納しています. fooを実行すると1が返ってきますが, outerを被せたdecoratedではそれに1プラスされて2が返ってきます. 言ってみればdecoratedは, fooのデコレーション版(foo + 何かの処理)といえます.  \n",
    "\n",
    "実際に有用なデコレータを使う際には, decoratedのように別の変数を用意せずfooそのものを置き換えてしまうことが多いです. つまり下のように.  "
   ]
  },
  {
   "cell_type": "code",
   "execution_count": 11,
   "metadata": {},
   "outputs": [
    {
     "name": "stdout",
     "output_type": "stream",
     "text": [
      "a\n"
     ]
    }
   ],
   "source": [
    "foo = outer(foo)"
   ]
  },
  {
   "cell_type": "code",
   "execution_count": 12,
   "metadata": {},
   "outputs": [
    {
     "name": "stdout",
     "output_type": "stream",
     "text": [
      "I am inner function!\n"
     ]
    },
    {
     "data": {
      "text/plain": [
       "'ahoge'"
      ]
     },
     "execution_count": 12,
     "metadata": {},
     "output_type": "execute_result"
    }
   ],
   "source": [
    "foo()"
   ]
  },
  {
   "cell_type": "code",
   "execution_count": 13,
   "metadata": {},
   "outputs": [
    {
     "name": "stdout",
     "output_type": "stream",
     "text": [
      "I am inner function!\n",
      "ahoge\n",
      "I am inner function!\n",
      "I am inner function!\n"
     ]
    },
    {
     "data": {
      "text/plain": [
       "'ahogehoge'"
      ]
     },
     "execution_count": 13,
     "metadata": {},
     "output_type": "execute_result"
    }
   ],
   "source": [
    "foo = outer(foo)\n",
    "foo()"
   ]
  },
  {
   "cell_type": "markdown",
   "metadata": {},
   "source": [
    "#### なにこれ...なにが嬉しいの...？\n",
    "とある座標のオブジェクトを保持するライブラリを使っているとします.  \n",
    "そのオブジェクトはxとyの座標ペアを保持していますが, 残念ながら足し算や引き算など数字の処理機能を持っていません.  \n",
    "しかし我々はこのライブラリを用いて大量の計算処理をする必要があり, ライブラリのソースを改編することも好ましくない状況だとします.  \n",
    "どうすれば良いでしょうか？"
   ]
  },
  {
   "cell_type": "code",
   "execution_count": 22,
   "metadata": {},
   "outputs": [],
   "source": [
    "class Coordinate(object):\n",
    "    def __init__(self, x, y):\n",
    "        self.x = x\n",
    "        self.y = y\n",
    "    def __repr__(self):\n",
    "        return \"Coord: \" + str(self.__dict__)\n",
    "    def add(a, b):\n",
    "        return Coordinate(a.x + b.x, a.y + b.y)\n",
    "    def sub(a, b):\n",
    "        return Coordinate(a.x - b.x, a.y - b.y)"
   ]
  },
  {
   "cell_type": "code",
   "execution_count": 29,
   "metadata": {},
   "outputs": [
    {
     "data": {
      "text/plain": [
       "Coord: {'x': 400, 'y': 400}"
      ]
     },
     "execution_count": 29,
     "metadata": {},
     "output_type": "execute_result"
    }
   ],
   "source": [
    "one = Coordinate(100, 200)\n",
    "two = Coordinate(300, 200)\n",
    "three = Coordinate(-100, -100)\n",
    "Coordinate.add(one, two)"
   ]
  },
  {
   "cell_type": "markdown",
   "metadata": {},
   "source": [
    "ここでたとえば「扱う座標系は0が下限である必要がある」といったチェック処理が必要だとしたらどうしますか？"
   ]
  },
  {
   "cell_type": "code",
   "execution_count": 30,
   "metadata": {},
   "outputs": [],
   "source": [
    "def wrapper(func):\n",
    "    def checker(a, b):\n",
    "        if a.x < 0 or a.y < 0:\n",
    "            a = Coordinate(a.x if a.x > 0 else 0, a.y if a.y > 0 else 0)\n",
    "        if b.x < 0 or b.y < 0:\n",
    "            b = Coordinate(b.x if b.x > 0 else 0, b.y if b.y > 0 else 0)\n",
    "        ret = func(a, b)\n",
    "        if ret.x < 0 or ret.y < 0:\n",
    "            ret = Coordinate(ret.x if ret.x > 0 else 0, ret.y if ret.y > 0 else 0)\n",
    "        return ret\n",
    "    return checker"
   ]
  },
  {
   "cell_type": "code",
   "execution_count": 31,
   "metadata": {},
   "outputs": [
    {
     "data": {
      "text/plain": [
       "Coord: {'x': 0, 'y': 0}"
      ]
     },
     "execution_count": 31,
     "metadata": {},
     "output_type": "execute_result"
    }
   ],
   "source": [
    "Coordinate.add = wrapper(Coordinate.add)\n",
    "Coordinate.sub = wrapper(Coordinate.sub)\n",
    "Coordinate.sub(one, two)"
   ]
  },
  {
   "cell_type": "code",
   "execution_count": 32,
   "metadata": {},
   "outputs": [
    {
     "data": {
      "text/plain": [
       "Coord: {'x': 100, 'y': 200}"
      ]
     },
     "execution_count": 32,
     "metadata": {},
     "output_type": "execute_result"
    }
   ],
   "source": [
    "Coordinate.add(one, three)"
   ]
  },
  {
   "cell_type": "code",
   "execution_count": 33,
   "metadata": {},
   "outputs": [],
   "source": [
    "class Coordinate(object):\n",
    "    def __init__(self, x, y):\n",
    "        self.x = x\n",
    "        self.y = y\n",
    "    def __repr__(self):\n",
    "        return \"Coord: \" + str(self.__dict__)\n",
    "    @wrapper\n",
    "    def add(a, b):\n",
    "        return Coordinate(a.x + b.x, a.y + b.y)\n",
    "    @wrapper\n",
    "    def sub(a, b):\n",
    "        return Coordinate(a.x - b.x, a.y - b.y)"
   ]
  },
  {
   "cell_type": "markdown",
   "metadata": {},
   "source": [
    "関数の引数をログに出力するデコレータを書いてみましょう. 簡略化のためログ出力はstdoutにprintしています"
   ]
  },
  {
   "cell_type": "code",
   "execution_count": 34,
   "metadata": {},
   "outputs": [],
   "source": [
    "def logger(func):\n",
    "    def inner(*args, **kwargs): #1\n",
    "        print(\"Arguments were: %s, %s\" % (args, kwargs))\n",
    "        return func(*args, **kwargs) #2\n",
    "    return inner"
   ]
  },
  {
   "cell_type": "code",
   "execution_count": 35,
   "metadata": {},
   "outputs": [],
   "source": [
    "@logger\n",
    "def foo1(x, y=1):\n",
    "    return x * y\n",
    "@logger\n",
    "def foo2():\n",
    "    return 2"
   ]
  },
  {
   "cell_type": "code",
   "execution_count": 36,
   "metadata": {},
   "outputs": [
    {
     "name": "stdout",
     "output_type": "stream",
     "text": [
      "Arguments were: (5, 4), {}\n"
     ]
    },
    {
     "data": {
      "text/plain": [
       "20"
      ]
     },
     "execution_count": 36,
     "metadata": {},
     "output_type": "execute_result"
    }
   ],
   "source": [
    "foo1(5, 4)"
   ]
  },
  {
   "cell_type": "code",
   "execution_count": 37,
   "metadata": {},
   "outputs": [
    {
     "name": "stdout",
     "output_type": "stream",
     "text": [
      "Arguments were: (1,), {}\n"
     ]
    },
    {
     "data": {
      "text/plain": [
       "1"
      ]
     },
     "execution_count": 37,
     "metadata": {},
     "output_type": "execute_result"
    }
   ],
   "source": [
    "foo1(1)"
   ]
  },
  {
   "cell_type": "code",
   "execution_count": 38,
   "metadata": {},
   "outputs": [
    {
     "name": "stdout",
     "output_type": "stream",
     "text": [
      "Arguments were: (), {}\n"
     ]
    },
    {
     "data": {
      "text/plain": [
       "2"
      ]
     },
     "execution_count": 38,
     "metadata": {},
     "output_type": "execute_result"
    }
   ],
   "source": [
    "foo2()"
   ]
  },
  {
   "cell_type": "code",
   "execution_count": null,
   "metadata": {},
   "outputs": [],
   "source": []
  },
  {
   "cell_type": "code",
   "execution_count": 45,
   "metadata": {},
   "outputs": [],
   "source": [
    "import time\n",
    "from random import randint\n",
    "\n",
    "\n",
    "def log(func):\n",
    "    def wrapper(*args, **kwargs):\n",
    "        my_arg = ''\n",
    "        if func.__name__ == 'start_machine':\n",
    "            my_arg = 'Start Machine\\t'\n",
    "        elif func.__name__ == 'boil_water':\n",
    "            my_arg = 'Boil Water\\t\\t'\n",
    "        elif func.__name__ == 'make_coffee':\n",
    "            my_arg = 'Make Coffee\\t\\t'\n",
    "        elif func.__name__ == 'add_water':\n",
    "            my_arg = 'Add Water\\t\\t'\n",
    "        user_log = '(bcarlier)Running:'\n",
    "        start_time = time.time()\n",
    "        result = func(*args, **kwargs)\n",
    "        end_time = time.time()\n",
    "        with open('machine.log', 'a+') as f:\n",
    "            f.write(f'{user_log} {my_arg} [ exec-time =  {end_time - start_time:.3f} ms ]\\n')\n",
    "        return result\n",
    "    return wrapper\n",
    "\n",
    "class CoffeeMachine():\n",
    "\n",
    "    water_level = 100\n",
    "\n",
    "    @log\n",
    "    def start_machine(self):\n",
    "        if self.water_level > 20:\n",
    "            return True\n",
    "        else:\n",
    "            print(\"Please add water!\")\n",
    "            return False\n",
    "\n",
    "    @log\n",
    "    def boil_water(self):\n",
    "        return \"boiling...\"\n",
    "\n",
    "    @log\n",
    "    def make_coffee(self):\n",
    "        if self.start_machine():\n",
    "            for _ in range(20):\n",
    "                time.sleep(0.1)\n",
    "                self.water_level -= 1\n",
    "            print(self.boil_water())\n",
    "            print(\"Coffee is ready!\")\n",
    "\n",
    "    @log\n",
    "    def add_water(self, water_level):\n",
    "        time.sleep(randint(1, 5))\n",
    "        self.water_level += water_level\n",
    "        print(\"Blub blub blub...\")"
   ]
  },
  {
   "cell_type": "code",
   "execution_count": 46,
   "metadata": {},
   "outputs": [
    {
     "name": "stdout",
     "output_type": "stream",
     "text": [
      "boiling...\n",
      "Coffee is ready!\n",
      "boiling...\n",
      "Coffee is ready!\n",
      "boiling...\n",
      "Coffee is ready!\n",
      "boiling...\n",
      "Coffee is ready!\n",
      "Please add water!\n",
      "Please add water!\n",
      "Blub blub blub...\n"
     ]
    }
   ],
   "source": [
    "machine = CoffeeMachine()\n",
    "for i in range(0, 5):\n",
    "    machine.make_coffee()\n",
    "\n",
    "machine.make_coffee()\n",
    "machine.add_water(70)"
   ]
  },
  {
   "cell_type": "code",
   "execution_count": 47,
   "metadata": {},
   "outputs": [
    {
     "name": "stdout",
     "output_type": "stream",
     "text": [
      "(bcarlier)Running: Start Machine\t [ exec-time =  0.000 ms ]\r\n",
      "(bcarlier)Running: Boil Water\t\t [ exec-time =  0.000 ms ]\r\n",
      "(bcarlier)Running: Make Coffee\t\t [ exec-time =  2.058 ms ]\r\n",
      "(bcarlier)Running: Start Machine\t [ exec-time =  0.000 ms ]\r\n",
      "(bcarlier)Running: Boil Water\t\t [ exec-time =  0.000 ms ]\r\n",
      "(bcarlier)Running: Make Coffee\t\t [ exec-time =  2.072 ms ]\r\n",
      "(bcarlier)Running: Start Machine\t [ exec-time =  0.000 ms ]\r\n",
      "(bcarlier)Running: Boil Water\t\t [ exec-time =  0.000 ms ]\r\n",
      "(bcarlier)Running: Make Coffee\t\t [ exec-time =  2.083 ms ]\r\n",
      "(bcarlier)Running: Start Machine\t [ exec-time =  0.000 ms ]\r\n",
      "(bcarlier)Running: Boil Water\t\t [ exec-time =  0.000 ms ]\r\n",
      "(bcarlier)Running: Make Coffee\t\t [ exec-time =  2.059 ms ]\r\n",
      "(bcarlier)Running: Start Machine\t [ exec-time =  0.000 ms ]\r\n",
      "(bcarlier)Running: Make Coffee\t\t [ exec-time =  0.001 ms ]\r\n",
      "(bcarlier)Running: Start Machine\t [ exec-time =  0.000 ms ]\r\n",
      "(bcarlier)Running: Make Coffee\t\t [ exec-time =  0.001 ms ]\r\n",
      "(bcarlier)Running: Add Water\t\t [ exec-time =  2.003 ms ]\r\n"
     ]
    }
   ],
   "source": [
    "cat machine.log"
   ]
  },
  {
   "cell_type": "code",
   "execution_count": null,
   "metadata": {},
   "outputs": [],
   "source": [
    "\n",
    "machine = CoffeeMachine()\n",
    "for i in range(0, 5):\n",
    "    machine.make_coffee()\n",
    "\n",
    "machine.make_coffee()\n",
    "machine.add_water(70)\n"
   ]
  }
 ],
 "metadata": {
  "kernelspec": {
   "display_name": "Python 3",
   "language": "python",
   "name": "python3"
  },
  "language_info": {
   "codemirror_mode": {
    "name": "ipython",
    "version": 3
   },
   "file_extension": ".py",
   "mimetype": "text/x-python",
   "name": "python",
   "nbconvert_exporter": "python",
   "pygments_lexer": "ipython3",
   "version": "3.8.6"
  }
 },
 "nbformat": 4,
 "nbformat_minor": 4
}
