{
 "cells": [
  {
   "cell_type": "code",
   "execution_count": 4,
   "metadata": {},
   "outputs": [],
   "source": [
    "class CsvReader:\n",
    "    def __init__(self, filename, sep=',', header=False, skip_top=0, skip_bottom=0):\n",
    "        self.filename = filename\n",
    "        self.file = None\n",
    "        self.sep = sep\n",
    "        self.header = header\n",
    "        self.skip_top = skip_top\n",
    "        self.skip_bottom = skip_bottom\n",
    "\n",
    "    def getdata(self):\n",
    "        data = []\n",
    "        try:\n",
    "            for line in self.file:\n",
    "                data.append(list(line.rstrip(\"\\n\\r\").split(sep=self.sep)))\n",
    "            if self.skip_bottom != 0:\n",
    "                length = len(data) - self.skip_bottom\n",
    "                data = data[:length]\n",
    "        except OSError as e:\n",
    "            print(f\"{e}\\nCould not open file {str(self)}\")\n",
    "            data = None\n",
    "        return data\n",
    "\n",
    "    def getheader(self):\n",
    "        try:\n",
    "            f = open(self.filename, mode='r')\n",
    "            head = (f.readline().split(sep=self.sep))\n",
    "            head[len(head) - 1] = head[len(head) - 1].replace(\"\\n\", \"\")\n",
    "        except OSError as e:\n",
    "            print(f\"{e}\\nCould not open file {str(self)}\")\n",
    "            head = None\n",
    "        return head\n",
    "\n",
    "    def __enter__(self):\n",
    "        try:\n",
    "            self.file = open(self.filename, mode='r')\n",
    "            test = open(self.filename, mode='r')\n",
    "            len_head = len(test.readline().split(sep=self.sep))\n",
    "            for line in test:\n",
    "                linelist = line.rstrip(\"\\n\\r\").split(sep=self.sep)\n",
    "                len_data = len([x for x in linelist if x != ''])\n",
    "                if len_data != len_head:\n",
    "                    self.file = None\n",
    "                    return self.file\n",
    "            if self.header is True:\n",
    "                next(self.file)\n",
    "            if self.skip_top != 0:\n",
    "                for top in range(0, self.skip_top):\n",
    "                    next(self.file)\n",
    "        except OSError as e:\n",
    "            print(f\"{e}\\nCould not open file {str(self)}\")\n",
    "            self.file = None\n",
    "        return self\n",
    "\n",
    "    def __exit__(self, exc_type, exc_val, exc_tb):\n",
    "        if self.file:\n",
    "            if not self.file.closed:\n",
    "                self.file.close()\n",
    "\n",
    "\n",
    "# if __name__ == \"__main__\":\n",
    "#     with CsvReader('good.csv', skip_top=0, header=True, skip_bottom=2) as file:\n",
    "#         if file is None:\n",
    "#             print(\"File is corrupted\")\n",
    "#         else:\n",
    "#             datas = file.getdata()\n",
    "#             header = file.getheader()\n",
    "#             if datas:\n",
    "#                 for elem in datas:\n",
    "#                     print(elem)\n",
    "#             print()\n",
    "#             print(header)\n"
   ]
  },
  {
   "cell_type": "code",
   "execution_count": 5,
   "metadata": {},
   "outputs": [
    {
     "name": "stdout",
     "output_type": "stream",
     "text": [
      "[Errno 2] No such file or directory: 'good.csv'\n",
      "Could not open file <__main__.CsvReader object at 0x10ce50130>\n"
     ]
    },
    {
     "ename": "TypeError",
     "evalue": "'NoneType' object is not iterable",
     "output_type": "error",
     "traceback": [
      "\u001b[0;31m---------------------------------------------------------------------------\u001b[0m",
      "\u001b[0;31mTypeError\u001b[0m                                 Traceback (most recent call last)",
      "\u001b[0;32m<ipython-input-5-574db5c050eb>\u001b[0m in \u001b[0;36m<module>\u001b[0;34m\u001b[0m\n\u001b[1;32m      3\u001b[0m         \u001b[0mprint\u001b[0m\u001b[0;34m(\u001b[0m\u001b[0;34m\"File is corrupted\"\u001b[0m\u001b[0;34m)\u001b[0m\u001b[0;34m\u001b[0m\u001b[0;34m\u001b[0m\u001b[0m\n\u001b[1;32m      4\u001b[0m     \u001b[0;32melse\u001b[0m\u001b[0;34m:\u001b[0m\u001b[0;34m\u001b[0m\u001b[0;34m\u001b[0m\u001b[0m\n\u001b[0;32m----> 5\u001b[0;31m         \u001b[0mdatas\u001b[0m \u001b[0;34m=\u001b[0m \u001b[0mfile\u001b[0m\u001b[0;34m.\u001b[0m\u001b[0mgetdata\u001b[0m\u001b[0;34m(\u001b[0m\u001b[0;34m)\u001b[0m\u001b[0;34m\u001b[0m\u001b[0;34m\u001b[0m\u001b[0m\n\u001b[0m\u001b[1;32m      6\u001b[0m         \u001b[0mheader\u001b[0m \u001b[0;34m=\u001b[0m \u001b[0mfile\u001b[0m\u001b[0;34m.\u001b[0m\u001b[0mgetheader\u001b[0m\u001b[0;34m(\u001b[0m\u001b[0;34m)\u001b[0m\u001b[0;34m\u001b[0m\u001b[0;34m\u001b[0m\u001b[0m\n\u001b[1;32m      7\u001b[0m         \u001b[0;32mif\u001b[0m \u001b[0mdatas\u001b[0m\u001b[0;34m:\u001b[0m\u001b[0;34m\u001b[0m\u001b[0;34m\u001b[0m\u001b[0m\n",
      "\u001b[0;32m<ipython-input-4-10585b3b0b9a>\u001b[0m in \u001b[0;36mgetdata\u001b[0;34m(self)\u001b[0m\n\u001b[1;32m     11\u001b[0m         \u001b[0mdata\u001b[0m \u001b[0;34m=\u001b[0m \u001b[0;34m[\u001b[0m\u001b[0;34m]\u001b[0m\u001b[0;34m\u001b[0m\u001b[0;34m\u001b[0m\u001b[0m\n\u001b[1;32m     12\u001b[0m         \u001b[0;32mtry\u001b[0m\u001b[0;34m:\u001b[0m\u001b[0;34m\u001b[0m\u001b[0;34m\u001b[0m\u001b[0m\n\u001b[0;32m---> 13\u001b[0;31m             \u001b[0;32mfor\u001b[0m \u001b[0mline\u001b[0m \u001b[0;32min\u001b[0m \u001b[0mself\u001b[0m\u001b[0;34m.\u001b[0m\u001b[0mfile\u001b[0m\u001b[0;34m:\u001b[0m\u001b[0;34m\u001b[0m\u001b[0;34m\u001b[0m\u001b[0m\n\u001b[0m\u001b[1;32m     14\u001b[0m                 \u001b[0mdata\u001b[0m\u001b[0;34m.\u001b[0m\u001b[0mappend\u001b[0m\u001b[0;34m(\u001b[0m\u001b[0mlist\u001b[0m\u001b[0;34m(\u001b[0m\u001b[0mline\u001b[0m\u001b[0;34m.\u001b[0m\u001b[0mrstrip\u001b[0m\u001b[0;34m(\u001b[0m\u001b[0;34m\"\\n\\r\"\u001b[0m\u001b[0;34m)\u001b[0m\u001b[0;34m.\u001b[0m\u001b[0msplit\u001b[0m\u001b[0;34m(\u001b[0m\u001b[0msep\u001b[0m\u001b[0;34m=\u001b[0m\u001b[0mself\u001b[0m\u001b[0;34m.\u001b[0m\u001b[0msep\u001b[0m\u001b[0;34m)\u001b[0m\u001b[0;34m)\u001b[0m\u001b[0;34m)\u001b[0m\u001b[0;34m\u001b[0m\u001b[0;34m\u001b[0m\u001b[0m\n\u001b[1;32m     15\u001b[0m             \u001b[0;32mif\u001b[0m \u001b[0mself\u001b[0m\u001b[0;34m.\u001b[0m\u001b[0mskip_bottom\u001b[0m \u001b[0;34m!=\u001b[0m \u001b[0;36m0\u001b[0m\u001b[0;34m:\u001b[0m\u001b[0;34m\u001b[0m\u001b[0;34m\u001b[0m\u001b[0m\n",
      "\u001b[0;31mTypeError\u001b[0m: 'NoneType' object is not iterable"
     ]
    }
   ],
   "source": [
    "with CsvReader('good.csv', skip_top=0, header=True, skip_bottom=2) as file:\n",
    "    if file is None:\n",
    "        print(\"File is corrupted\")\n",
    "    else:\n",
    "        datas = file.getdata()\n",
    "        header = file.getheader()\n",
    "        if datas:\n",
    "            for elem in datas:\n",
    "                print(elem)\n",
    "        print()\n",
    "        print(header)\n"
   ]
  },
  {
   "cell_type": "code",
   "execution_count": null,
   "metadata": {},
   "outputs": [],
   "source": []
  },
  {
   "cell_type": "code",
   "execution_count": null,
   "metadata": {},
   "outputs": [],
   "source": []
  }
 ],
 "metadata": {
  "kernelspec": {
   "display_name": "Python 3",
   "language": "python",
   "name": "python3"
  },
  "language_info": {
   "codemirror_mode": {
    "name": "ipython",
    "version": 3
   },
   "file_extension": ".py",
   "mimetype": "text/x-python",
   "name": "python",
   "nbconvert_exporter": "python",
   "pygments_lexer": "ipython3",
   "version": "3.8.6"
  }
 },
 "nbformat": 4,
 "nbformat_minor": 4
}
