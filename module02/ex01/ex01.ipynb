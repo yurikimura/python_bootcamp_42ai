{
 "cells": [
  {
   "cell_type": "markdown",
   "metadata": {},
   "source": [
    "Implement the what_are_the_vars function that returns an object with the right attributes.  \n",
    "You will have to modify the ‘instance’ ObjectC, NOT the class.  \n",
    "Have a look to getattr, setattr.  "
   ]
  },
  {
   "cell_type": "code",
   "execution_count": 10,
   "metadata": {},
   "outputs": [],
   "source": [
    "class ObjectC(object):\n",
    "    def __init__(self):\n",
    "        pass\n",
    "\n",
    "    def doom_printer(obj):\n",
    "        if obj is None:\n",
    "            print(\"ERROR\")\n",
    "            print(\"end\")\n",
    "            return\n",
    "\n",
    "        for attr in dir(obj):\n",
    "            if attr[0] != '_':\n",
    "                value = getattr(obj, attr)\n",
    "                print(\"{}: {}\".format(attr, value))\n",
    "        print(\"end\")"
   ]
  },
  {
   "cell_type": "code",
   "execution_count": 11,
   "metadata": {},
   "outputs": [],
   "source": [
    "def what_are_the_vars(*args, **kwargs):\n",
    "    \"\"\"Your code\"\"\"\n",
    "    my_obj = ObjectC()\n",
    "    for i, value in enumerate(args):\n",
    "        setattr(my_obj, 'var_' + str(i), value)\n",
    "    for key, val in kwargs.items():\n",
    "        if hasattr(my_obj, key):\n",
    "            return None\n",
    "        setattr(my_obj, key, val)\n",
    "    return my_obj"
   ]
  },
  {
   "cell_type": "code",
   "execution_count": 21,
   "metadata": {},
   "outputs": [
    {
     "name": "stdout",
     "output_type": "stream",
     "text": [
      "doom_printer: <bound method ObjectC.doom_printer of <__main__.ObjectC object at 0x102622e20>>\n",
      "var_0: 7\n",
      "end\n"
     ]
    }
   ],
   "source": [
    "obj = what_are_the_vars(7)\n",
    "ObjectC.doom_printer(obj)"
   ]
  },
  {
   "cell_type": "code",
   "execution_count": 22,
   "metadata": {},
   "outputs": [
    {
     "name": "stdout",
     "output_type": "stream",
     "text": [
      "doom_printer: <bound method ObjectC.doom_printer of <__main__.ObjectC object at 0x102622640>>\n",
      "var_0: ft_lol\n",
      "var_1: Hi\n",
      "end\n"
     ]
    }
   ],
   "source": [
    "obj = what_are_the_vars(\"ft_lol\", \"Hi\")\n",
    "ObjectC.doom_printer(obj)"
   ]
  },
  {
   "cell_type": "code",
   "execution_count": 24,
   "metadata": {},
   "outputs": [
    {
     "name": "stdout",
     "output_type": "stream",
     "text": [
      "a: 10\n",
      "doom_printer: <bound method ObjectC.doom_printer of <__main__.ObjectC object at 0x102622040>>\n",
      "hello: world\n",
      "var_0: 12\n",
      "var_1: Yes\n",
      "var_2: [0, 0, 0]\n",
      "end\n"
     ]
    }
   ],
   "source": [
    "obj = what_are_the_vars(12, \"Yes\", [0, 0, 0], a=10, hello=\"world\")\n",
    "ObjectC.doom_printer(obj)"
   ]
  },
  {
   "cell_type": "code",
   "execution_count": null,
   "metadata": {},
   "outputs": [],
   "source": []
  },
  {
   "cell_type": "code",
   "execution_count": null,
   "metadata": {},
   "outputs": [],
   "source": [
    "doom_printer(obj)\n",
    "obj = what_are_the_vars(\"ft_lol\", \"Hi\")\n",
    "doom_printer(obj)\n",
    "obj = what_are_the_vars()\n",
    "doom_printer(obj)\n",
    "obj = what_are_the_vars(12, \"Yes\", [0, 0, 0], a=10, hello=\"world\")\n",
    "doom_printer(obj)\n",
    "obj = what_are_the_vars(42, a=10, var_0=\"world\")\n",
    "doom_printer(obj)"
   ]
  }
 ],
 "metadata": {
  "kernelspec": {
   "display_name": "Python 3",
   "language": "python",
   "name": "python3"
  },
  "language_info": {
   "codemirror_mode": {
    "name": "ipython",
    "version": 3
   },
   "file_extension": ".py",
   "mimetype": "text/x-python",
   "name": "python",
   "nbconvert_exporter": "python",
   "pygments_lexer": "ipython3",
   "version": "3.8.6"
  }
 },
 "nbformat": 4,
 "nbformat_minor": 4
}
