{
 "cells": [
  {
   "cell_type": "code",
   "execution_count": 35,
   "metadata": {},
   "outputs": [],
   "source": [
    "class Matrix:\n",
    "    def __init__(self, obj):\n",
    "        \"\"\"\n",
    "        • data : list of lists -> the elements stored in the matrix\n",
    "        • shape : by shape we mean the dimensions of the matrix as a tuple (rows, columns) \n",
    "                    -> Matrix([[0.0, 1.0], [2.0, 3.0], [4.0, 5.0]]).shape == (3, 2)\n",
    "        \"\"\"\n",
    "        try:\n",
    "            if isinstance(obj, list) and all(isinstance(row, list) for row in obj):\n",
    "                pass\n",
    "            else:\n",
    "                print(\"Matrix must be 2D list.\")\n",
    "                return\n",
    "            \n",
    "            if all(all(isinstance(elem, float) for elem in row) for row in obj):\n",
    "                pass\n",
    "            else:\n",
    "                print('elems must be float.')\n",
    "                return\n",
    "            \n",
    "            if len(set([len(i) for i in obj])) == 1:\n",
    "                self.data = obj\n",
    "                self.shape = (len(obj),len(obj[0]))\n",
    "            else:\n",
    "                print('all rows must have same length.')\n",
    "                \n",
    "        except:\n",
    "            print(\"ERROR\")\n",
    "            return\n",
    "            \n",
    "    def __add__(self, matrix_or_scalar):\n",
    "\n",
    "        if isinstance(matrix_or_scalar, Matrix) and self.shape == matrix_or_scalar.shape:\n",
    "            obj = [self.data[i] + matrix_or_scalar.values[i] for i in range(self.shape)]\n",
    "            return Matrix(obj)\n",
    "                \n",
    "        elif isinstance(matrix_or_scalar, float) or isinstance(matrix_or_scalar, int):\n",
    "            for row in self.data:\n",
    "                row = [self.shape[i] + matrix_or_scalar for i in range(self.shape)]\n",
    "            return Vector(obj)\n",
    "        else:\n",
    "            print(\"Try again\")\n",
    "\n",
    "    def __radd__(self, vector_or_scalar):\n",
    "        \n",
    "        if isinstance(vector_or_scalar, Vector) and self.size == vector_or_scalar.size:\n",
    "            obj = [self.values[i] + vector_or_scalar.values[i] for i in range(self.size)]\n",
    "            return Vector(obj)\n",
    "                \n",
    "        elif isinstance(vector_or_scalar, float) or isinstance(vector_or_scalar, int):\n",
    "            obj = [self.values[i] + vector_or_scalar for i in range(self.size)]\n",
    "            return Vector(obj)\n",
    "        else:\n",
    "            print(\"Try again\")\n",
    "            \n",
    "    def __sub__(self, vector_or_scalar):\n",
    "        \n",
    "        if isinstance(vector_or_scalar, Vector) and self.size == vector_or_scalar.size:\n",
    "            obj = [self.values[i] - vector_or_scalar.values[i] for i in range(self.size)]\n",
    "            return Vector(obj)\n",
    "                \n",
    "        elif isinstance(vector_or_scalar, float) or isinstance(vector_or_scalar, int):\n",
    "            obj = [self.values[i] - vector_or_scalar for i in range(self.size)]\n",
    "            return Vector(obj)\n",
    "        else:\n",
    "            print(\"Try again\")\n",
    "\n",
    "    def __rsub__(self, vector_or_scalar):\n",
    "        \n",
    "        if isinstance(vector_or_scalar, Vector) and self.size == vector_or_scalar.size:\n",
    "            obj = [self.values[i] - vector_or_scalar.values[i] for i in range(self.size)]\n",
    "            return Vector(obj)\n",
    "                \n",
    "        elif isinstance(vector_or_scalar, float) or isinstance(vector_or_scalar, int):\n",
    "            obj = [self.values[i] - vector_or_scalar for i in range(self.size)]\n",
    "            return Vector(obj)\n",
    "        else:\n",
    "            print(\"Try again\")\n",
    "\n",
    "    def __truediv__(self, scalar):\n",
    "        \n",
    "        if isinstance(scalar, float) or isinstance(scalar, int):\n",
    "            obj = [self.values[i] / scalar for i in range(self.size)]\n",
    "            return Vector(obj)\n",
    "        else:\n",
    "            print(\"Try again\")\n",
    "\n",
    "    def __rtruediv__(self, vector_or_scalar):\n",
    "        \n",
    "        if isinstance(vector_or_scalar, float) or isinstance(vector_or_scalar, int):\n",
    "            obj = [self.values[i] / vector_or_scalar for i in range(self.size)]\n",
    "            return Vector(obj)\n",
    "        else:\n",
    "            print(\"Try again\")\n",
    "\n",
    "    def __mul__(self, vector_or_scalar):\n",
    "        if isinstance(vector_or_scalar, Vector) and self.size == vector_or_scalar.size:\n",
    "            obj =+ self.values[i] * vector_or_scalar.values[i]\n",
    "            return obj\n",
    "                \n",
    "        elif isinstance(vector_or_scalar, float) or isinstance(vector_or_scalar, int):\n",
    "            obj = [self.values[i] * vector_or_scalar for i in range(self.size)]\n",
    "            return Vector(obj)\n",
    "        else:\n",
    "            print(\"Try again\")\n",
    "\n",
    "    def __rmul__(self, vector_or_scalar):\n",
    "        if isinstance(vector_or_scalar, Vector) and self.size == vector_or_scalar.size:\n",
    "            obj =+ self.values[i] * vector_or_scalar.values[i]\n",
    "            return obj\n",
    "                \n",
    "        elif isinstance(vector_or_scalar, float) or isinstance(vector_or_scalar, int):\n",
    "            obj = [self.values[i] * vector_or_scalar for i in range(self.size)]\n",
    "            return Vector(obj)\n",
    "        else:\n",
    "            print(\"Try again\")\n",
    "\n",
    "    def __str__(self):\n",
    "        return f\"values: {self.values}\\nsize: {self.size}\"\n",
    "\n",
    "    def __repr__(self):\n",
    "        return f\"values: {self.values}\\nsize: {self.size}\"\n"
   ]
  },
  {
   "cell_type": "code",
   "execution_count": 44,
   "metadata": {},
   "outputs": [
    {
     "name": "stdout",
     "output_type": "stream",
     "text": [
      "True\n",
      "{2}\n",
      "1\n"
     ]
    }
   ],
   "source": [
    "obj =  [[1.0,2.0],[1.0,2.0],[4.0,5.0]]\n",
    "\n",
    "print(all(all(isinstance(x, float) for x in i) for i in obj))\n",
    "print(set([len(i) for i in obj]))\n",
    "print(len(set([len(i) for i in obj])))"
   ]
  },
  {
   "cell_type": "code",
   "execution_count": 45,
   "metadata": {},
   "outputs": [
    {
     "name": "stdout",
     "output_type": "stream",
     "text": [
      "[[1.0, 2.0], [1.0, 2.0], [4.0, 5.0]]\n",
      "(3, 2)\n"
     ]
    }
   ],
   "source": [
    "m1 = Matrix(obj)\n",
    "print(m1.data)\n",
    "print(m1.shape)"
   ]
  },
  {
   "cell_type": "code",
   "execution_count": 32,
   "metadata": {},
   "outputs": [
    {
     "name": "stdout",
     "output_type": "stream",
     "text": [
      "elems must be float.\n"
     ]
    }
   ],
   "source": [
    "miss = Matrix([[1,2],[3,\"a\"]])"
   ]
  },
  {
   "cell_type": "code",
   "execution_count": 34,
   "metadata": {},
   "outputs": [
    {
     "ename": "AttributeError",
     "evalue": "'Matrix' object has no attribute 'shape'",
     "output_type": "error",
     "traceback": [
      "\u001b[0;31m---------------------------------------------------------------------------\u001b[0m",
      "\u001b[0;31mAttributeError\u001b[0m                            Traceback (most recent call last)",
      "\u001b[0;32m<ipython-input-34-d44f83356718>\u001b[0m in \u001b[0;36m<module>\u001b[0;34m\u001b[0m\n\u001b[0;32m----> 1\u001b[0;31m \u001b[0mprint\u001b[0m\u001b[0;34m(\u001b[0m\u001b[0mmiss\u001b[0m\u001b[0;34m.\u001b[0m\u001b[0mshape\u001b[0m\u001b[0;34m)\u001b[0m\u001b[0;34m\u001b[0m\u001b[0;34m\u001b[0m\u001b[0m\n\u001b[0m",
      "\u001b[0;31mAttributeError\u001b[0m: 'Matrix' object has no attribute 'shape'"
     ]
    }
   ],
   "source": [
    "print(miss.shape)"
   ]
  },
  {
   "cell_type": "code",
   "execution_count": null,
   "metadata": {},
   "outputs": [],
   "source": []
  },
  {
   "cell_type": "code",
   "execution_count": null,
   "metadata": {},
   "outputs": [],
   "source": []
  }
 ],
 "metadata": {
  "kernelspec": {
   "display_name": "Python 3",
   "language": "python",
   "name": "python3"
  },
  "language_info": {
   "codemirror_mode": {
    "name": "ipython",
    "version": 3
   },
   "file_extension": ".py",
   "mimetype": "text/x-python",
   "name": "python",
   "nbconvert_exporter": "python",
   "pygments_lexer": "ipython3",
   "version": "3.8.6"
  }
 },
 "nbformat": 4,
 "nbformat_minor": 4
}
