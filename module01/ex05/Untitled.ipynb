{
 "cells": [
  {
   "cell_type": "code",
   "execution_count": 31,
   "metadata": {},
   "outputs": [],
   "source": [
    "class Evaluator:\n",
    "    def __init__(self):\n",
    "        pass\n",
    "\n",
    "    def zip_evaluate(self, coefs, words):\n",
    "        if len(coefs) != len(words):\n",
    "            return -1  \n",
    "        try:\n",
    "            zipped = zip(coefs, words)\n",
    "            s = 0\n",
    "            for i in zipped:\n",
    "                s += i[0] * len(i[1])\n",
    "            return s\n",
    "        except:\n",
    "            return \"TypeError\"\n",
    "        \n",
    "    def enumerate_evaluate(self, coefs, words):\n",
    "        if len(coefs) != len(words):\n",
    "            return -1\n",
    "        try:\n",
    "            s = 0\n",
    "            for i, c in enumerate(words):\n",
    "                s += len(words[i]) * coefs[i]\n",
    "            return s\n",
    "        except:\n",
    "            return \"TypeError\"        \n"
   ]
  },
  {
   "cell_type": "code",
   "execution_count": 29,
   "metadata": {},
   "outputs": [
    {
     "name": "stdout",
     "output_type": "stream",
     "text": [
      "Le\n",
      "0.0\n",
      "Lorem\n",
      "-1.0\n",
      "Ipsum\n",
      "1.0\n",
      "n'\n",
      "-12.0\n",
      "est\n",
      "0.0\n",
      "pas\n",
      "42.42\n",
      "simple\n"
     ]
    },
    {
     "ename": "IndexError",
     "evalue": "list index out of range",
     "output_type": "error",
     "traceback": [
      "\u001b[0;31m---------------------------------------------------------------------------\u001b[0m",
      "\u001b[0;31mIndexError\u001b[0m                                Traceback (most recent call last)",
      "\u001b[0;32m<ipython-input-29-c7ff4e646503>\u001b[0m in \u001b[0;36m<module>\u001b[0;34m\u001b[0m\n\u001b[1;32m      1\u001b[0m \u001b[0;32mfor\u001b[0m \u001b[0mi\u001b[0m\u001b[0;34m,\u001b[0m \u001b[0mc\u001b[0m \u001b[0;32min\u001b[0m \u001b[0menumerate\u001b[0m\u001b[0;34m(\u001b[0m\u001b[0mwords\u001b[0m\u001b[0;34m)\u001b[0m\u001b[0;34m:\u001b[0m\u001b[0;34m\u001b[0m\u001b[0;34m\u001b[0m\u001b[0m\n\u001b[1;32m      2\u001b[0m     \u001b[0mprint\u001b[0m\u001b[0;34m(\u001b[0m\u001b[0mwords\u001b[0m\u001b[0;34m[\u001b[0m\u001b[0mi\u001b[0m\u001b[0;34m]\u001b[0m\u001b[0;34m)\u001b[0m\u001b[0;34m\u001b[0m\u001b[0;34m\u001b[0m\u001b[0m\n\u001b[0;32m----> 3\u001b[0;31m     \u001b[0mprint\u001b[0m\u001b[0;34m(\u001b[0m\u001b[0mcoefs\u001b[0m\u001b[0;34m[\u001b[0m\u001b[0mi\u001b[0m\u001b[0;34m]\u001b[0m\u001b[0;34m)\u001b[0m\u001b[0;34m\u001b[0m\u001b[0;34m\u001b[0m\u001b[0m\n\u001b[0m",
      "\u001b[0;31mIndexError\u001b[0m: list index out of range"
     ]
    }
   ],
   "source": [
    "for i, c in enumerate(words):\n",
    "    print(words[i])\n",
    "    print(coefs[i])"
   ]
  },
  {
   "cell_type": "code",
   "execution_count": 32,
   "metadata": {},
   "outputs": [
    {
     "data": {
      "text/plain": [
       "32.0"
      ]
     },
     "execution_count": 32,
     "metadata": {},
     "output_type": "execute_result"
    }
   ],
   "source": [
    "words = [\"Le\", \"Lorem\", \"Ipsum\", \"est\", \"simple\"]\n",
    "coefs = [1.0, 2.0, 1.0, 4.0, 0.5]\n",
    "Evaluator.enumerate_evaluate(coefs, words)"
   ]
  },
  {
   "cell_type": "code",
   "execution_count": 33,
   "metadata": {},
   "outputs": [
    {
     "data": {
      "text/plain": [
       "-1"
      ]
     },
     "execution_count": 33,
     "metadata": {},
     "output_type": "execute_result"
    }
   ],
   "source": [
    "words = [\"Le\", \"Lorem\", \"Ipsum\", \"n'\", \"est\", \"pas\", \"simple\"]\n",
    "coefs = [0.0, -1.0, 1.0, -12.0, 0.0, 42.42]\n",
    "Evaluator.zip_evaluate(coefs, words)"
   ]
  },
  {
   "cell_type": "code",
   "execution_count": null,
   "metadata": {},
   "outputs": [],
   "source": []
  }
 ],
 "metadata": {
  "kernelspec": {
   "display_name": "Python 3",
   "language": "python",
   "name": "python3"
  },
  "language_info": {
   "codemirror_mode": {
    "name": "ipython",
    "version": 3
   },
   "file_extension": ".py",
   "mimetype": "text/x-python",
   "name": "python",
   "nbconvert_exporter": "python",
   "pygments_lexer": "ipython3",
   "version": "3.8.6"
  }
 },
 "nbformat": 4,
 "nbformat_minor": 4
}
