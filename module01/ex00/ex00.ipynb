{
 "cells": [
  {
   "cell_type": "markdown",
   "metadata": {
    "id": "LZiOrAuc331X"
   },
   "source": [
    "# module01 ex00簡易版ノート\n",
    "\n",
    "## 1. Recipe\n",
    "\n",
    "Recipe.pyでは\"Recipe\"というオブジェクトを作成できるようなクラスを定義します。以下に最もシンプルな定義を書きます："
   ]
  },
  {
   "cell_type": "code",
   "execution_count": 8,
   "metadata": {
    "id": "rq0sUzb2331i"
   },
   "outputs": [],
   "source": [
    "class Recipe:\n",
    "    def __init__(self, name: str = None, cooking_lvl: int = None,\n",
    "                 cooking_time: int = None, ingredients: list = None,\n",
    "                 description: str = None, recipe_type: str = None): # 初期化： インスタンス作成時に自動的に呼ばれる\n",
    "        \"\"\"\n",
    "        • name (str)\n",
    "        • cooking_lvl (int) : range 1 to 5\n",
    "        • cooking_time (int) : in minutes (no negative numbers)\n",
    "        • ingredients (list) : list of all ingredients each represented by a string • description (str) : description of the recipe\n",
    "        • description (str) : description of the recipe\n",
    "        • recipe_type (str) : can be “starter”, “lunch” or “dessert”.\n",
    "        \"\"\"\n",
    "        self.name = name # インスタンス変数 name を宣言する\n",
    "        self.cooking_lvl = cooking_lvl\n",
    "        self.cooking_time = cooking_time\n",
    "        self.ingredients = ingredients\n",
    "        self.description = description\n",
    "        self.recipe_type = recipe_type\n",
    "\n",
    "    def __str__(self):\n",
    "        pass"
   ]
  },
  {
   "cell_type": "markdown",
   "metadata": {
    "id": "kqqAIr0m331j"
   },
   "source": [
    "これでRecipeオブジェクトを作成することができます。  \n",
    "実際にsaladという変数名でRecipeオブジェクトを作成してみます。  \n",
    "saladの内容はsalad.name等とすることで扱うことができます。"
   ]
  },
  {
   "cell_type": "code",
   "execution_count": 9,
   "metadata": {
    "colab": {
     "base_uri": "https://localhost:8080/"
    },
    "id": "nhh6PCRf331j",
    "outputId": "fdfd0447-3acd-4d5e-e035-582a72513007"
   },
   "outputs": [
    {
     "name": "stdout",
     "output_type": "stream",
     "text": [
      "<class '__main__.Recipe'>\n",
      "Salad\n",
      "1\n",
      "10\n",
      "['avocado', 'tomato', 'ham']\n",
      "This is salad.\n",
      "starter\n"
     ]
    }
   ],
   "source": [
    "salad = Recipe(name='Salad', cooking_lvl=1, cooking_time=10, ingredients=['avocado', 'tomato', 'ham'],\n",
    "               description='This is salad.', recipe_type='starter') # インスタンス salad を作成\n",
    "\n",
    "print(type(salad))\n",
    "print(salad.name)\n",
    "print(salad.cooking_lvl)\n",
    "print(salad.cooking_time)\n",
    "print(salad.ingredients)\n",
    "print(salad.description)\n",
    "print(salad.recipe_type)"
   ]
  },
  {
   "cell_type": "code",
   "execution_count": 10,
   "metadata": {},
   "outputs": [
    {
     "data": {
      "text/plain": [
       "'SaladThis is salad.'"
      ]
     },
     "execution_count": 10,
     "metadata": {},
     "output_type": "execute_result"
    }
   ],
   "source": [
    "salad.name+salad.description"
   ]
  },
  {
   "cell_type": "markdown",
   "metadata": {
    "id": "I54mTxNt331k"
   },
   "source": [
    "現時点ではsaladそのものをprintすることはできません。\\_\\_str\\_\\_によって返すstrを定義することでprint(salad)によって返す処理を作ることができます。"
   ]
  },
  {
   "cell_type": "code",
   "execution_count": 3,
   "metadata": {
    "colab": {
     "base_uri": "https://localhost:8080/",
     "height": 164
    },
    "id": "f0veLgZl331k",
    "outputId": "96e95691-45ff-4178-8225-b90ad376a181"
   },
   "outputs": [
    {
     "ename": "TypeError",
     "evalue": "__str__ returned non-string (type NoneType)",
     "output_type": "error",
     "traceback": [
      "\u001b[0;31m---------------------------------------------------------------------------\u001b[0m",
      "\u001b[0;31mTypeError\u001b[0m                                 Traceback (most recent call last)",
      "\u001b[0;32m<ipython-input-3-58232251dbfa>\u001b[0m in \u001b[0;36m<module>\u001b[0;34m\u001b[0m\n\u001b[0;32m----> 1\u001b[0;31m \u001b[0mprint\u001b[0m\u001b[0;34m(\u001b[0m\u001b[0msalad\u001b[0m\u001b[0;34m)\u001b[0m\u001b[0;34m\u001b[0m\u001b[0;34m\u001b[0m\u001b[0m\n\u001b[0m",
      "\u001b[0;31mTypeError\u001b[0m: __str__ returned non-string (type NoneType)"
     ]
    }
   ],
   "source": [
    "print(salad)"
   ]
  },
  {
   "cell_type": "code",
   "execution_count": 4,
   "metadata": {
    "id": "Ip5znCVW331k"
   },
   "outputs": [],
   "source": [
    "class Recipe:\n",
    "\n",
    "    def __init__(self, name: str = None, cooking_lvl: int = None,\n",
    "                 cooking_time: int = None, ingredients: list = None,\n",
    "                 description: str = None, recipe_type: str = None):\n",
    "        \"\"\"\n",
    "        • name (str)\n",
    "        • cooking_lvl (int) : range 1 to 5\n",
    "        • cooking_time (int) : in minutes (no negative numbers)\n",
    "        • ingredients (list) : list of all ingredients each represented by a string • description (str) : description of the recipe\n",
    "        • description (str) : description of the recipe\n",
    "        • recipe_type (str) : can be “starter”, “lunch” or “dessert”.\n",
    "        \"\"\"\n",
    "        self.name = name\n",
    "        self.cooking_lvl = cooking_lvl\n",
    "        self.cooking_time = cooking_time\n",
    "        self.ingredients = ingredients\n",
    "        self.description = description\n",
    "        self.recipe_type = recipe_type\n",
    "\n",
    "    def __str__(self):\n",
    "        \"\"\"Return the string to print with the recipe info\"\"\"\n",
    "        txt = \"\"\n",
    "        txt = f\"name: {self.name}\\n\"\\\n",
    "            + f\"level: {self.cooking_lvl}\\n\"\\\n",
    "            + f\"time: {self.cooking_time}\\n\"\\\n",
    "            + f\"ingredients: {self.ingredients}\\n\"\\\n",
    "            + f\"recipe_type: {self.recipe_type}\"\n",
    "\n",
    "        return txt"
   ]
  },
  {
   "cell_type": "markdown",
   "metadata": {
    "id": "IBGlbjnJ331l"
   },
   "source": [
    "\\_\\_str\\_\\_を定義することでprint(salad)によって返す処理を作ることができました。"
   ]
  },
  {
   "cell_type": "code",
   "execution_count": 5,
   "metadata": {
    "colab": {
     "base_uri": "https://localhost:8080/"
    },
    "id": "8ws-gm8-331l",
    "outputId": "de3d35cf-218e-4734-b30d-99556e14d550"
   },
   "outputs": [
    {
     "name": "stdout",
     "output_type": "stream",
     "text": [
      "name: Salad\n",
      "level: 1\n",
      "time: 10\n",
      "ingredients: ['avocado', 'tomato', 'ham']\n",
      "recipe_type: starter\n"
     ]
    }
   ],
   "source": [
    "salad = Recipe(name='Salad', cooking_lvl=1, cooking_time=10, ingredients=['avocado', 'tomato', 'ham'],\n",
    "               description='This is salad.', recipe_type='starter')\n",
    "\n",
    "print(salad)"
   ]
  },
  {
   "cell_type": "markdown",
   "metadata": {
    "id": "vR0WkITc331m"
   },
   "source": [
    "## 2. Book\n",
    "\n",
    "recipeを追加、管理するクラスを定義します。問題文よりinitを最も簡易的に定義しただけのクラスは以下の通りになります。"
   ]
  },
  {
   "cell_type": "code",
   "execution_count": 6,
   "metadata": {
    "id": "PD9F7Otv331m"
   },
   "outputs": [],
   "source": [
    "import datetime\n",
    "\n",
    "class Book:\n",
    "    def __init__(self, name, last_update, creation_date, recipes_list):\n",
    "        \"\"\"\n",
    "        • name (str)\n",
    "        • last_update (datetime)\n",
    "        • creation_date (datetime)\n",
    "        • recipes_list (dict) : a dictionnary why 3 keys: “starter”, “lunch”, “dessert”.\n",
    "        \"\"\"\n",
    "        self.name = name\n",
    "        self.last_update = last_update\n",
    "        self.creation_date = creation_date\n",
    "        self.recipes_list = recipes_list\n",
    "    def get_recipe_by_name(self, name):\n",
    "        \"\"\"Print a recipe with the name `name` and return the instance\"\"\"\n",
    "        pass\n",
    "\n",
    "    def get_recipes_by_types(self, recipe_type):\n",
    "        \"\"\"Get all recipe names for a given recipe_type \"\"\"\n",
    "        pass\n",
    "\n",
    "    def add_recipe(self, recipe):\n",
    "        \"\"\"Add a recipe to the book and update last_update\"\"\"\n",
    "        pass"
   ]
  },
  {
   "cell_type": "code",
   "execution_count": 7,
   "metadata": {
    "id": "VZ_shP3V331m"
   },
   "outputs": [],
   "source": [
    "my_book = Book(name=\"cookbook\", last_update=datetime.datetime.now(),\n",
    "               creation_date=datetime.datetime.now(), recipes_list=dict.fromkeys(['starter', 'lunch', 'dessert']))"
   ]
  },
  {
   "cell_type": "code",
   "execution_count": 8,
   "metadata": {
    "colab": {
     "base_uri": "https://localhost:8080/"
    },
    "id": "Lxk4QKki331m",
    "outputId": "20687bfc-da07-4a2f-cfcc-567ec50fe626"
   },
   "outputs": [
    {
     "name": "stdout",
     "output_type": "stream",
     "text": [
      "<class '__main__.Book'>\n",
      "cookbook\n",
      "2021-02-12 01:36:25.870881\n",
      "2021-02-12 01:36:25.870887\n",
      "{'starter': None, 'lunch': None, 'dessert': None}\n"
     ]
    }
   ],
   "source": [
    "print(type(my_book))\n",
    "print(my_book.name)\n",
    "print(my_book.last_update)\n",
    "print(my_book.creation_date)\n",
    "print(my_book.recipes_list)"
   ]
  },
  {
   "cell_type": "markdown",
   "metadata": {
    "id": "bHlWs20Y5BLN"
   },
   "source": [
    "以下クラス内の関数の定義は上のRecipeの __str_\\_の例のようによしなに定義することができます。\n"
   ]
  },
  {
   "cell_type": "code",
   "execution_count": null,
   "metadata": {
    "id": "JSPmoaeX331n"
   },
   "outputs": [],
   "source": [
    "import datetime\n",
    "\n",
    "class Book:\n",
    "    def __init__(self, name, last_update, creation_date, recipes_list):\n",
    "        \"\"\"\n",
    "        • name (str)\n",
    "        • last_update (datetime)\n",
    "        • creation_date (datetime)\n",
    "        • recipes_list (dict) : a dictionnary why 3 keys: “starter”, “lunch”, “dessert”.\n",
    "        \"\"\"\n",
    "        self.name = name\n",
    "        self.last_update = last_update\n",
    "        self.creation_date = creation_date\n",
    "        self.recipes_list = recipes_list\n",
    "        \n",
    "    def get_recipe_by_name(self, name):\n",
    "        \"\"\"Print a recipe with the name `name` and return the instance\"\"\"\n",
    "        if isinstance(name, Recipe):\n",
    "            for elem in self.recipes_list.values():\n",
    "                if elem and isinstance(elem, list):\n",
    "                    for obj in elem:\n",
    "                        if obj == name:\n",
    "                            print(obj)\n",
    "                elif elem and name == elem:\n",
    "                    print(elem)\n",
    "\n",
    "    def get_recipes_by_types(self, recipe_type):\n",
    "        \"\"\"Get all recipe names for a given recipe_type \"\"\"\n",
    "        if recipe_type in self.recipes_list.keys():\n",
    "            return self.recipes_list[recipe_type]\n",
    "\n",
    "    def add_recipe(self, recipe):\n",
    "        \"\"\"Add a recipe to the book and update last_update\"\"\"\n",
    "        if self.recipes_list[recipe.recipe_type] is None:\n",
    "            self.recipes_list[recipe.recipe_type] = [recipe]\n",
    "        else:\n",
    "            self.recipes_list[recipe.recipe_type].append(recipe)\n",
    "        self.last_update = datetime.datetime.now()"
   ]
  },
  {
   "cell_type": "code",
   "execution_count": null,
   "metadata": {
    "id": "Pd6UvxrQ331n"
   },
   "outputs": [],
   "source": [
    "my_book = Book(name=\"cookbook\", last_update=datetime.datetime.now(),\n",
    "               creation_date=datetime.datetime.now(), recipes_list=dict.fromkeys(['starter', 'lunch', 'dessert']))"
   ]
  },
  {
   "cell_type": "code",
   "execution_count": null,
   "metadata": {
    "id": "gjHGaiVK331n",
    "outputId": "1c2fbdb1-b95e-4b28-8ed5-07d5966f02cf"
   },
   "outputs": [
    {
     "name": "stdout",
     "output_type": "stream",
     "text": [
      "2021-02-12 10:29:25.051550\n",
      "2021-02-12 10:29:25.051541\n",
      "{'starter': None, 'lunch': None, 'dessert': None}\n"
     ]
    }
   ],
   "source": [
    "print(my_book.creation_date)\n",
    "print(my_book.last_update)\n",
    "print(my_book.recipes_list)"
   ]
  },
  {
   "cell_type": "code",
   "execution_count": null,
   "metadata": {
    "id": "nOGcp26s331o"
   },
   "outputs": [],
   "source": [
    "salad = Recipe(name='Salad', cooking_lvl=1, cooking_time=10, ingredients=['avocado', 'tomato', 'ham'],\n",
    "               description='This is salad.', recipe_type='starter')\n",
    "\n",
    "my_book.add_recipe(salad)"
   ]
  },
  {
   "cell_type": "code",
   "execution_count": null,
   "metadata": {
    "id": "u4XLMqR0331o",
    "outputId": "20607485-846f-4529-afb9-0a126b8f6401"
   },
   "outputs": [
    {
     "name": "stdout",
     "output_type": "stream",
     "text": [
      "2021-02-12 10:29:25.051550\n",
      "2021-02-12 10:29:31.760224\n",
      "{'starter': [<__main__.Recipe object at 0x1089138b0>], 'lunch': None, 'dessert': None}\n"
     ]
    }
   ],
   "source": [
    "print(my_book.creation_date)\n",
    "print(my_book.last_update)\n",
    "print(my_book.recipes_list)"
   ]
  },
  {
   "cell_type": "code",
   "execution_count": null,
   "metadata": {
    "id": "RId7c3bA331o",
    "outputId": "7a6e7439-84de-4ab5-fb22-00070ccc8afd"
   },
   "outputs": [
    {
     "name": "stdout",
     "output_type": "stream",
     "text": [
      "name: Salad\n",
      "level: 1\n",
      "time: 10\n",
      "ingredients: ['avocado', 'tomato', 'ham']\n",
      "recipe_type: starter\n"
     ]
    }
   ],
   "source": [
    "for i in my_book.get_recipes_by_types('starter'):\n",
    "    print(i)"
   ]
  },
  {
   "cell_type": "code",
   "execution_count": null,
   "metadata": {
    "id": "ZQ6lxs4J331q"
   },
   "outputs": [],
   "source": []
  }
 ],
 "metadata": {
  "colab": {
   "collapsed_sections": [],
   "name": "ex00.ipynb",
   "provenance": []
  },
  "kernelspec": {
   "display_name": "Python 3",
   "language": "python",
   "name": "python3"
  },
  "language_info": {
   "codemirror_mode": {
    "name": "ipython",
    "version": 3
   },
   "file_extension": ".py",
   "mimetype": "text/x-python",
   "name": "python",
   "nbconvert_exporter": "python",
   "pygments_lexer": "ipython3",
   "version": "3.8.6"
  }
 },
 "nbformat": 4,
 "nbformat_minor": 1
}
