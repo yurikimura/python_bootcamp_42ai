{
 "cells": [
  {
   "cell_type": "code",
   "execution_count": 250,
   "metadata": {},
   "outputs": [],
   "source": [
    "class Vector:\n",
    "    def __init__(self, obj):\n",
    "        \"\"\"\n",
    "        You should be able to initialize the object with either:\n",
    "        • a list of floats: Vector([0.0, 1.0, 2.0, 3.0]) -> then the size of the vector will be 4\n",
    "        • a size: Vector(3) -> the vector will be created with default values starting from 0.0: [0.0, 1.0, 2.0]\n",
    "        • a range (min, max): Vector((10,16)) -> the vector will be created with values in the given range: [10.0, 11.0, 12.0, 13.0, 14.0, 15.0]\n",
    "        \"\"\"\n",
    "        try:\n",
    "            if isinstance(obj, list):\n",
    "                if all(isinstance(x, float) for x in obj):\n",
    "                    self.values = obj\n",
    "                    self.size = len(self.values)\n",
    "                else:\n",
    "                    print('The list must only contain float values.')\n",
    "\n",
    "            elif isinstance(obj, int):\n",
    "                self.values = [float(i) for i in range(obj)]\n",
    "                self.size = obj\n",
    "\n",
    "            elif isinstance(obj, tuple):\n",
    "                if len(obj) == 2 and all(isinstance(x, int) for x in obj):\n",
    "                    self.values = [float(i) for i in range(obj[1])][obj[0]:]\n",
    "                    self.size = obj[1] - obj[0]\n",
    "                else:\n",
    "                    print('range must be a tuple of 2 integer.')\n",
    "            else:\n",
    "                print(\"ERROR\")\n",
    "        except:\n",
    "            print(\"ERROR\")\n",
    "            \n",
    "    def __add__(self, vector_or_scalar):\n",
    "\n",
    "        if isinstance(vector_or_scalar, Vector) and self.size == vector_or_scalar.size:\n",
    "            obj = [self.values[i] + vector_or_scalar.values[i] for i in range(self.size)]\n",
    "            return Vector(obj)\n",
    "                \n",
    "        elif isinstance(vector_or_scalar, float) or isinstance(vector_or_scalar, int):\n",
    "            obj = [self.values[i] + vector_or_scalar for i in range(self.size)]\n",
    "            return Vector(obj)\n",
    "        else:\n",
    "            print(\"Try again\")\n",
    "\n",
    "    def __radd__(self, vector_or_scalar):\n",
    "        \n",
    "        if isinstance(vector_or_scalar, Vector) and self.size == vector_or_scalar.size:\n",
    "            obj = [self.values[i] + vector_or_scalar.values[i] for i in range(self.size)]\n",
    "            return Vector(obj)\n",
    "                \n",
    "        elif isinstance(vector_or_scalar, float) or isinstance(vector_or_scalar, int):\n",
    "            obj = [self.values[i] + vector_or_scalar for i in range(self.size)]\n",
    "            return Vector(obj)\n",
    "        else:\n",
    "            print(\"Try again\")\n",
    "            \n",
    "    def __sub__(self, vector_or_scalar):\n",
    "        \n",
    "        if isinstance(vector_or_scalar, Vector) and self.size == vector_or_scalar.size:\n",
    "            obj = [self.values[i] - vector_or_scalar.values[i] for i in range(self.size)]\n",
    "            return Vector(obj)\n",
    "                \n",
    "        elif isinstance(vector_or_scalar, float) or isinstance(vector_or_scalar, int):\n",
    "            obj = [self.values[i] - vector_or_scalar for i in range(self.size)]\n",
    "            return Vector(obj)\n",
    "        else:\n",
    "            print(\"Try again\")\n",
    "\n",
    "    def __rsub__(self, vector_or_scalar):\n",
    "        \n",
    "        if isinstance(vector_or_scalar, Vector) and self.size == vector_or_scalar.size:\n",
    "            obj = [self.values[i] - vector_or_scalar.values[i] for i in range(self.size)]\n",
    "            return Vector(obj)\n",
    "                \n",
    "        elif isinstance(vector_or_scalar, float) or isinstance(vector_or_scalar, int):\n",
    "            obj = [self.values[i] - vector_or_scalar for i in range(self.size)]\n",
    "            return Vector(obj)\n",
    "        else:\n",
    "            print(\"Try again\")\n",
    "\n",
    "    def __truediv__(self, scalar):\n",
    "        \n",
    "        if isinstance(scalar, float) or isinstance(scalar, int):\n",
    "            obj = [self.values[i] / scalar for i in range(self.size)]\n",
    "            return Vector(obj)\n",
    "        else:\n",
    "            print(\"Try again\")\n",
    "\n",
    "    def __rtruediv__(self, vector_or_scalar):\n",
    "        \n",
    "        if isinstance(vector_or_scalar, float) or isinstance(vector_or_scalar, int):\n",
    "            obj = [self.values[i] / vector_or_scalar for i in range(self.size)]\n",
    "            return Vector(obj)\n",
    "        else:\n",
    "            print(\"Try again\")\n",
    "\n",
    "    def __mul__(self, vector_or_scalar):\n",
    "        if isinstance(vector_or_scalar, Vector) and self.size == vector_or_scalar.size:\n",
    "            obj =+ self.values[i] * vector_or_scalar.values[i]\n",
    "            return obj\n",
    "                \n",
    "        elif isinstance(vector_or_scalar, float) or isinstance(vector_or_scalar, int):\n",
    "            obj = [self.values[i] * vector_or_scalar for i in range(self.size)]\n",
    "            return Vector(obj)\n",
    "        else:\n",
    "            print(\"Try again\")\n",
    "\n",
    "    def __rmul__(self, vector_or_scalar):\n",
    "        if isinstance(vector_or_scalar, Vector) and self.size == vector_or_scalar.size:\n",
    "            obj =+ self.values[i] * vector_or_scalar.values[i]\n",
    "            return obj\n",
    "                \n",
    "        elif isinstance(vector_or_scalar, float) or isinstance(vector_or_scalar, int):\n",
    "            obj = [self.values[i] * vector_or_scalar for i in range(self.size)]\n",
    "            return Vector(obj)\n",
    "        else:\n",
    "            print(\"Try again\")\n",
    "\n",
    "    def __str__(self):\n",
    "        return f\"values: {self.values}\\nsize: {self.size}\"\n",
    "\n",
    "    def __repr__(self):\n",
    "        return f\"values: {self.values}\\nsize: {self.size}\"\n"
   ]
  },
  {
   "cell_type": "code",
   "execution_count": 251,
   "metadata": {},
   "outputs": [
    {
     "name": "stdout",
     "output_type": "stream",
     "text": [
      "[1.0, 2.0, 3.0, 4.0]\n",
      "4\n"
     ]
    }
   ],
   "source": [
    "v1 = Vector((1,5))\n",
    "print(v1.values)\n",
    "print(v1.size)"
   ]
  },
  {
   "cell_type": "code",
   "execution_count": 252,
   "metadata": {},
   "outputs": [],
   "source": [
    "for i in range(v1.size):\n",
    "    v1.values[i] = v1.values[i] + 5"
   ]
  },
  {
   "cell_type": "code",
   "execution_count": 253,
   "metadata": {},
   "outputs": [
    {
     "data": {
      "text/plain": [
       "[6.0, 7.0, 8.0, 9.0]"
      ]
     },
     "execution_count": 253,
     "metadata": {},
     "output_type": "execute_result"
    }
   ],
   "source": [
    "v1.values"
   ]
  },
  {
   "cell_type": "code",
   "execution_count": null,
   "metadata": {},
   "outputs": [],
   "source": []
  },
  {
   "cell_type": "code",
   "execution_count": 254,
   "metadata": {},
   "outputs": [
    {
     "name": "stdout",
     "output_type": "stream",
     "text": [
      "[6.0, 7.0, 8.0, 9.0]\n",
      "[11.0, 12.0, 13.0, 14.0]\n"
     ]
    }
   ],
   "source": [
    "v2 = v1 + 5\n",
    "print(v1.values)\n",
    "print(v2.values)"
   ]
  },
  {
   "cell_type": "code",
   "execution_count": 255,
   "metadata": {},
   "outputs": [
    {
     "name": "stdout",
     "output_type": "stream",
     "text": [
      "[6.0, 7.0, 8.0, 9.0]\n",
      "[11.0, 12.0, 13.0, 14.0]\n",
      "[17.0, 19.0, 21.0, 23.0]\n"
     ]
    }
   ],
   "source": [
    "v3 = v1 + v2\n",
    "print(v1.values)\n",
    "print(v2.values)\n",
    "print(v3.values)"
   ]
  },
  {
   "cell_type": "code",
   "execution_count": 256,
   "metadata": {},
   "outputs": [
    {
     "name": "stdout",
     "output_type": "stream",
     "text": [
      "[6.0, 7.0, 8.0, 9.0]\n",
      "[11.0, 12.0, 13.0, 14.0]\n",
      "[-5.0, -5.0, -5.0, -5.0]\n"
     ]
    }
   ],
   "source": [
    "v3 = v1 - v2\n",
    "print(v1.values)\n",
    "print(v2.values)\n",
    "print(v3.values)"
   ]
  },
  {
   "cell_type": "code",
   "execution_count": 257,
   "metadata": {},
   "outputs": [
    {
     "name": "stdout",
     "output_type": "stream",
     "text": [
      "[6.0, 7.0, 8.0, 9.0]\n",
      "[1.0, 2.0, 3.0, 4.0]\n"
     ]
    }
   ],
   "source": [
    "v2 = v1 - 5\n",
    "print(v1.values)\n",
    "print(v2.values)"
   ]
  },
  {
   "cell_type": "code",
   "execution_count": 258,
   "metadata": {},
   "outputs": [
    {
     "data": {
      "text/plain": [
       "36.0"
      ]
     },
     "execution_count": 258,
     "metadata": {},
     "output_type": "execute_result"
    }
   ],
   "source": [
    "a = v1 * v2\n",
    "a"
   ]
  },
  {
   "cell_type": "code",
   "execution_count": 259,
   "metadata": {},
   "outputs": [
    {
     "name": "stdout",
     "output_type": "stream",
     "text": [
      "[6.0, 7.0, 8.0, 9.0]\n",
      "[30.0, 35.0, 40.0, 45.0]\n"
     ]
    }
   ],
   "source": [
    "v2 = v1 * 5\n",
    "print(v1.values)\n",
    "print(v2.values)"
   ]
  },
  {
   "cell_type": "code",
   "execution_count": 260,
   "metadata": {},
   "outputs": [
    {
     "name": "stdout",
     "output_type": "stream",
     "text": [
      "[1.2, 1.4, 1.6, 1.8]\n"
     ]
    }
   ],
   "source": [
    "v2 = v1 / 5\n",
    "print(v2.values)"
   ]
  },
  {
   "cell_type": "code",
   "execution_count": 261,
   "metadata": {},
   "outputs": [
    {
     "data": {
      "text/plain": [
       "values: [1.2, 1.4, 1.6, 1.8]\n",
       "size: 4"
      ]
     },
     "execution_count": 261,
     "metadata": {},
     "output_type": "execute_result"
    }
   ],
   "source": [
    "v2"
   ]
  },
  {
   "cell_type": "code",
   "execution_count": 262,
   "metadata": {},
   "outputs": [
    {
     "name": "stdout",
     "output_type": "stream",
     "text": [
      "values: [1.2, 1.4, 1.6, 1.8]\n",
      "size: 4\n"
     ]
    }
   ],
   "source": [
    "print(v2)"
   ]
  },
  {
   "cell_type": "code",
   "execution_count": null,
   "metadata": {},
   "outputs": [],
   "source": []
  }
 ],
 "metadata": {
  "kernelspec": {
   "display_name": "Python 3",
   "language": "python",
   "name": "python3"
  },
  "language_info": {
   "codemirror_mode": {
    "name": "ipython",
    "version": 3
   },
   "file_extension": ".py",
   "mimetype": "text/x-python",
   "name": "python",
   "nbconvert_exporter": "python",
   "pygments_lexer": "ipython3",
   "version": "3.8.6"
  }
 },
 "nbformat": 4,
 "nbformat_minor": 4
}
