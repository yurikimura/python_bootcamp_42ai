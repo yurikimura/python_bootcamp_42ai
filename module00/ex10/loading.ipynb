{
 "cells": [
  {
   "cell_type": "code",
   "execution_count": 29,
   "metadata": {},
   "outputs": [
    {
     "name": "stdout",
     "output_type": "stream",
     "text": [
      "Alice is 25 years old\n",
      "Alice is 25 years old\n"
     ]
    }
   ],
   "source": [
    "# %を使う文字表示\n",
    "s = 'Alice'\n",
    "i = 25\n",
    "\n",
    "print('Alice is %d years old' % i)\n",
    "# Alice is 25 years old\n",
    "\n",
    "print('%s is %d years old' % (s, i))\n",
    "# Alice is 25 years old"
   ]
  },
  {
   "cell_type": "code",
   "execution_count": 18,
   "metadata": {},
   "outputs": [
    {
     "name": "stdout",
     "output_type": "stream",
     "text": [
      "range(0, 1000)\n",
      "<class 'range'>\n",
      "999\n",
      "0\n"
     ]
    }
   ],
   "source": [
    "import time\n",
    "import sys\n",
    "\n",
    "start = time.time()\n",
    "length = len(str(max(range(1000))))\n",
    "eta = 0\n",
    "barsize = 50\n",
    "\n",
    "print(range(1000))\n",
    "print(type(range(1000)))\n",
    "print(max(range(1000)))\n",
    "print(min(range(1000)))"
   ]
  },
  {
   "cell_type": "code",
   "execution_count": 62,
   "metadata": {},
   "outputs": [
    {
     "name": "stdout",
     "output_type": "stream",
     "text": [
      "ETA: 2067.95s [  0%] [>         ] 0/9 | elapsed time 2075.26s\n",
      "ETA: 18677.36s [ 11%] [=>        ] 1/9 | elapsed time 2075.26s\n",
      "ETA: 9338.68s [ 22%] [==>       ] 2/9 | elapsed time 2075.26s\n",
      "ETA: 6225.79s [ 33%] [===>      ] 3/9 | elapsed time 2075.26s\n",
      "ETA: 4669.34s [ 44%] [====>     ] 4/9 | elapsed time 2075.26s\n",
      "ETA: 3735.47s [ 55%] [=====>    ] 5/9 | elapsed time 2075.26s\n",
      "ETA: 3112.89s [ 66%] [======>   ] 6/9 | elapsed time 2075.26s\n",
      "ETA: 2668.19s [ 77%] [=======>  ] 7/9 | elapsed time 2075.26s\n",
      "ETA: 2334.67s [ 88%] [========> ] 8/9 | elapsed time 2075.26s\n",
      "ETA: 2075.26s [100%] [==========] 9/9 | elapsed time 2075.26s\n"
     ]
    }
   ],
   "source": [
    "charge = range(10)\n",
    "for i in charge:\n",
    "    per = i/max(charge)*100\n",
    "    bar = int(i/max(charge)*barsize)\n",
    "    t = time.time() - start\n",
    "    if per > 0:\n",
    "        eta = t/per*100\n",
    "    # https://python-reference.readthedocs.io/en/latest/docs/str/formatting.html\n",
    "    # ETA: \"eta\"s [per%] []\n",
    "    print(\"ETA: %.2fs [%3d%%] [%-*.*s] %*d/%d | elapsed time %.2fs\" %\n",
    "                     (eta, per, barsize, barsize, '='*bar+'>', length, i, max(charge), t))"
   ]
  },
  {
   "cell_type": "code",
   "execution_count": 63,
   "metadata": {},
   "outputs": [],
   "source": [
    "import time\n",
    "import sys\n",
    "\n",
    "def ft_progress(charge: range):\n",
    "    try:\n",
    "        start = time.time()\n",
    "        length = len(str(max(charge)))\n",
    "        eta = 0\n",
    "        barsize = 50\n",
    "        for i in charge:\n",
    "            per = i/max(charge)*100\n",
    "            bar = int(i/max(charge)*barsize)\n",
    "            t = time.time() - start\n",
    "            if per > 0:\n",
    "                eta = t/per*100\n",
    "            sys.stdout.write('\\r')\n",
    "            sys.stdout.write(\"ETA: %.2fs [%3d%%] [%-*.*s] %*d/%d | elapsed time %.2fs\" %\n",
    "                  (eta, per, barsize, barsize, '='*bar+'>', length, i, max(charge), t))\n",
    "            yield i\n",
    "    except:\n",
    "        print(\"ERROR: parameter must be range object\")"
   ]
  },
  {
   "cell_type": "code",
   "execution_count": 64,
   "metadata": {},
   "outputs": [
    {
     "ename": "TypeError",
     "evalue": "'int' object is not iterable",
     "output_type": "error",
     "traceback": [
      "\u001b[0;31m---------------------------------------------------------------------------\u001b[0m",
      "\u001b[0;31mTypeError\u001b[0m                                 Traceback (most recent call last)",
      "\u001b[0;32m<ipython-input-64-788b91519201>\u001b[0m in \u001b[0;36m<module>\u001b[0;34m\u001b[0m\n\u001b[0;32m----> 1\u001b[0;31m \u001b[0mmax\u001b[0m\u001b[0;34m(\u001b[0m\u001b[0mbar\u001b[0m\u001b[0;34m)\u001b[0m\u001b[0;34m\u001b[0m\u001b[0;34m\u001b[0m\u001b[0m\n\u001b[0m",
      "\u001b[0;31mTypeError\u001b[0m: 'int' object is not iterable"
     ]
    }
   ],
   "source": [
    "max(bar)"
   ]
  },
  {
   "cell_type": "code",
   "execution_count": 65,
   "metadata": {},
   "outputs": [
    {
     "name": "stdout",
     "output_type": "stream",
     "text": [
      "ETA: 1.17s [100%] [==================================================]  99/99 | elapsed time 1.17s\n",
      "200\n"
     ]
    }
   ],
   "source": [
    "charge = range(100)\n",
    "ret = 0\n",
    "for elem in ft_progress(charge):\n",
    "    ret += (elem + 3) % 5\n",
    "    time.sleep(0.01)\n",
    "print()\n",
    "print(ret)"
   ]
  },
  {
   "cell_type": "code",
   "execution_count": 30,
   "metadata": {},
   "outputs": [
    {
     "data": {
      "text/plain": [
       "<generator object ft_progress at 0x10da38eb0>"
      ]
     },
     "execution_count": 30,
     "metadata": {},
     "output_type": "execute_result"
    }
   ],
   "source": [
    "ft_progress(listy)"
   ]
  },
  {
   "cell_type": "code",
   "execution_count": null,
   "metadata": {},
   "outputs": [],
   "source": []
  }
 ],
 "metadata": {
  "kernelspec": {
   "display_name": "Python 3",
   "language": "python",
   "name": "python3"
  },
  "language_info": {
   "codemirror_mode": {
    "name": "ipython",
    "version": 3
   },
   "file_extension": ".py",
   "mimetype": "text/x-python",
   "name": "python",
   "nbconvert_exporter": "python",
   "pygments_lexer": "ipython3",
   "version": "3.8.6"
  }
 },
 "nbformat": 4,
 "nbformat_minor": 4
}
